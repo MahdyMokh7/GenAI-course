{
  "cells": [
    {
      "cell_type": "code",
      "execution_count": null,
      "metadata": {
        "id": "lZQICzdMEUyh"
      },
      "outputs": [],
      "source": [
        "api_key = '8f0e8e1e65f48add1dc3145c2652f7d7'"
      ]
    },
    {
      "cell_type": "code",
      "execution_count": null,
      "metadata": {
        "colab": {
          "base_uri": "https://localhost:8080/"
        },
        "id": "SxYAT5SfEcm-",
        "outputId": "ed53dd85-b1b2-4dcb-f475-722ed0bce23e"
      },
      "outputs": [
        {
          "name": "stdout",
          "output_type": "stream",
          "text": [
            "Enter city name: tehran\n",
            "Weather in tehran: broken clouds\n",
            "Temperature: 10.4°C\n",
            "Humidity: 21%\n",
            "Wind Speed: 3.09 m/s\n"
          ]
        }
      ],
      "source": [
        "import requests\n",
        "\n",
        "# Replace with your actual API key\n",
        "API_KEY = '8f0e8e1e65f48add1dc3145c2652f7d7'\n",
        "BASE_URL = \"http://api.openweathermap.org/data/2.5/weather\"\n",
        "\n",
        "def get_weather(city):\n",
        "    params = {\n",
        "        \"q\": city,\n",
        "        \"appid\": API_KEY,\n",
        "        \"units\": \"metric\"  # Use \"imperial\" for Fahrenheit\n",
        "    }\n",
        "    response = requests.get(BASE_URL, params=params)\n",
        "\n",
        "    if response.status_code == 200:\n",
        "        data = response.json()\n",
        "        weather_desc = data[\"weather\"][0][\"description\"]\n",
        "        temp = data[\"main\"][\"temp\"]\n",
        "        humidity = data[\"main\"][\"humidity\"]\n",
        "        wind_speed = data[\"wind\"][\"speed\"]\n",
        "\n",
        "        print(f\"Weather in {city}: {weather_desc}\")\n",
        "        print(f\"Temperature: {temp}°C\")\n",
        "        print(f\"Humidity: {humidity}%\")\n",
        "        print(f\"Wind Speed: {wind_speed} m/s\")\n",
        "    else:\n",
        "        print(\"Error fetching weather data. Check the city name or API key.\")\n",
        "\n",
        "# Example usage\n",
        "city_name = input(\"Enter city name: \")\n",
        "get_weather(city_name)\n"
      ]
    }
  ],
  "metadata": {
    "colab": {
      "provenance": []
    },
    "kernelspec": {
      "display_name": "Python 3",
      "name": "python3"
    },
    "language_info": {
      "name": "python"
    }
  },
  "nbformat": 4,
  "nbformat_minor": 0
}
